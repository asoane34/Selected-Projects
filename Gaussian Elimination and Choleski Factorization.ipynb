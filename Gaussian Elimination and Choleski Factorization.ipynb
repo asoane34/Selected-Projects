{
 "cells": [
  {
   "cell_type": "markdown",
   "metadata": {},
   "source": [
    "# Atticus Soane\n",
    "# Gaussian Elimination/Choleski Factorization Algorithms\n",
    "# Problem 1"
   ]
  },
  {
   "cell_type": "markdown",
   "metadata": {},
   "source": [
    "# Part a)\n",
    "Write a code to perform Guassian elimination that returns the solution matrix $x$ or an error message if the matrix is singular."
   ]
  },
  {
   "cell_type": "code",
   "execution_count": 1,
   "metadata": {},
   "outputs": [],
   "source": [
    "# Code was written by Atticus Soane. There are several functions compiled for one master function, annotated as I go\n",
    "import numpy as np\n",
    "\n",
    "def pivot(A, k): #This code performs the partial pivoting. It takes the matrix and the desired column as the input. \n",
    "    max_list = [] \n",
    "    n = len(A)\n",
    "    for i in range(k, n): #goes through ith element of each row to determine the largest value in that column.\n",
    "        max_list.append(A[i][k])\n",
    "    mx = max(max_list)\n",
    "    if mx == 0: #This is to break the function if the matrix is singular and there is no solution. \n",
    "        return(\"This matrix is singular\")\n",
    "    for j in range(k, n): #This performs the row substitution, putting the row with the largetst element on top. \n",
    "        if A[j][k] == mx:\n",
    "            piv = A[j]\n",
    "            A.remove(piv)\n",
    "            A.insert(k, piv)\n",
    "    return(A) #The output is the matrix A, with the column k arranged in the desired manner. \n",
    "\n",
    "def elimination(A, k): #this short function performs the elimination. It takes the matrix A and the column as input\n",
    "    for i in range(k+1, len(A)):\n",
    "        val = (A[i][k]/A[k][k]) #determines the multiplier to be used on any given row\n",
    "        for j in range(len(A[i])):\n",
    "            A[i][j] = A[i][j] - (val * A[k][j]) #subtracts the multiplier times the given row from the top row.\n",
    "    return(A) #The output is the matrix A, with the elimination performed. \n",
    "\n",
    "def EliminationPivot(A, b): #This function combines the two previous functions and augments the solution matrix. \n",
    "    for i in range(len(A)): #produces the augmented matrix with the solution matrix attached in the (n+1)st column\n",
    "        A[i].append(b[i])\n",
    "    for i in range(len(A)-1): #performs the pivoting and the elimination functions from above. \n",
    "        A = pivot(A, i)\n",
    "        A = elimination(A, i)\n",
    "    return(A) #the output is a reduced row echelon form augmented matrix, prepared for backward substitution. \n",
    "\n",
    "def backwardSub(A): #this performs the backward substitution. It takes the augmented matrix A as input\n",
    "    b = []\n",
    "    for i in range(len(A)):\n",
    "        val = A[i].pop() #this removes the solution matrix and creates its own list, which I felt was easier to deal with\n",
    "        b.append(val)\n",
    "    if A[-1][-1] == 0: #to test if the matrix is singular in case the pivot function didn't catch it. \n",
    "        return(\"This matrix is singular, there is no solution.\")\n",
    "    n = len(b)\n",
    "    x = [0] * n #creates an empty matrix to store the x-values. \n",
    "    x[-1] = b[-1] / A[-1][-1] #determines the first value of the x-matrix to use for the backwards substitution. \n",
    "    for i in range(n-2, -1, -1): #iterates backwards to perform the substitution\n",
    "        sm = 0\n",
    "        for j in range(n-1, -1, -1): #a second iteration to compute the sum the coefficient matrix multiplied by the \n",
    "            sm += A[i][j] * x[j] #x-value matrix, used in the backwards substitution. \n",
    "        x[i] = (1/A[i][i]) * (b[i] - sm)\n",
    "    return(x) #the output is the x-matrix with the solutions to the system\n",
    "\n",
    "def final(l1, l2): #this function combines all of the functions from above into 1 easy to call function\n",
    "    A = EliminationPivot(l1, l2)\n",
    "    x = backwardSub(A)\n",
    "    return(x) #the final output is the x- matrix. \n",
    "    \n",
    "    \n",
    "    \n",
    "\n",
    "\n",
    "    \n"
   ]
  },
  {
   "cell_type": "markdown",
   "metadata": {},
   "source": [
    "# Part b)\n",
    "Test your code on the following matrices: $$A = \\begin{bmatrix}5&1&0&2&1\\\\0&4&0&1&2\\\\1&1&4&1&1\\\\0&1&2&6&0\\\\0&0&1&2&4\\\\ \\end{bmatrix}, \\: B = \\begin{bmatrix} 1\\\\2\\\\3\\\\4\\\\5\\\\ \\end{bmatrix}$$"
   ]
  },
  {
   "cell_type": "code",
   "execution_count": 2,
   "metadata": {},
   "outputs": [
    {
     "data": {
      "text/plain": [
       "[-0.17083786724700764,\n",
       " -0.06746463547334058,\n",
       " 0.4602829162132753,\n",
       " 0.5244831338411317,\n",
       " 0.8726877040261154]"
      ]
     },
     "execution_count": 2,
     "metadata": {},
     "output_type": "execute_result"
    }
   ],
   "source": [
    "l1 = [[5,1,0,2,1], [0,4,0,1,2], [1,1,4,1,1],[0,1,2,6,0],[0,0,1,2,4]]\n",
    "l2 = [1,2,3,4,5]\n",
    "x = final(l1, l2)\n",
    "x"
   ]
  },
  {
   "cell_type": "markdown",
   "metadata": {},
   "source": [
    "The solutions for $x_{1}, x_{2}, x_{3}, x_{4},$ and $x_{5}$ appear in order in the list above. "
   ]
  },
  {
   "cell_type": "markdown",
   "metadata": {},
   "source": [
    "# Part c)\n",
    "Test your code on the matrix: $$ A =\\begin{bmatrix} 5&1&0&2\\\\0&4&0&8\\\\1&1&4&2\\\\0&1&2&2\\\\ \\end{bmatrix}, B=\\begin{bmatrix}1\\\\2\\\\3\\\\4\\\\ \\end{bmatrix}$$"
   ]
  },
  {
   "cell_type": "code",
   "execution_count": 3,
   "metadata": {},
   "outputs": [
    {
     "data": {
      "text/plain": [
       "'This matrix is singular, there is no solution.'"
      ]
     },
     "execution_count": 3,
     "metadata": {},
     "output_type": "execute_result"
    }
   ],
   "source": [
    "l3 = [[5,1,0,2], [0,4,0,8], [1,1,4,2], [0,1,2,2]]\n",
    "l4 = [1,2,3,4]\n",
    "x2 = final(l3, l4)\n",
    "x2"
   ]
  },
  {
   "cell_type": "markdown",
   "metadata": {},
   "source": [
    "As the error message was produced from the code, we can see that the matrix is singular and has no solution.  "
   ]
  },
  {
   "cell_type": "markdown",
   "metadata": {},
   "source": [
    "# Problem 2\n",
    "# Part a) \n",
    "Prove that the determinant of an upper triangular $n\\: x\\: n$ matrix is equal to the product of the entries on the main diagonal. "
   ]
  },
  {
   "cell_type": "markdown",
   "metadata": {},
   "source": [
    "We will use induction to complete this proof. Firstly, given an $n\\:x\\:n$ matrix $A$ that is upper triangular, if $n=2$, we know that: $$det(A) = det\\begin{bmatrix}a_{11}&a_{12}\\\\0&a_{22}\\\\ \\end{bmatrix} = a_{11}a_{22} - a_{12}*0 = a_{11}a_{22}$$ As this clearly holds true in the $n = 2$ case, let us now assume that this holds true in the $n\\:x\\:n$ case and prove that this means it holds true in the $(n+1)\\:x\\:(n+1)$ case. Given an $(n+1)\\:x\\:(n+1)$ upper triangular matrix, we can calculate the determinant using cofactor expansion on the first column (had we done the proof with a lower triangular matrix, we would have simply used the first row instead of the first column). This yields the following: $$det(A) = (-1)^{1+1}a_{11}\\begin{bmatrix}a_{22}&\\cdot&\\cdot&a_{2(n+1)}\\\\0&a_{33}&\\cdot&a_{3(n+1)}\\\\\\cdot&\\cdot&\\cdot&\\cdot\\\\0&0&\\cdot&a_{(n+1)(n+1)}\\\\ \\end{bmatrix}+ \\:0\\: +\\: ...\\: +\\: 0$$ The subsequent terms in the cofactor expansion using the first column will all equal zero because $a_{21} = a_{31} =... = a_{(n+1)1} = 0$\n",
    "Now, we have the first term of the main diagonal entry of A times the determinant of an upper triangular $n\\:x\\:n$ matrix, which was our initial assumption, and thus by induction we have proved that the determinant of an $n\\:x\\:n$ matrix is equal to the product of the entries on the main diagonal. "
   ]
  },
  {
   "cell_type": "markdown",
   "metadata": {},
   "source": [
    "# Part b)\n",
    "Prove that the product of the pivots in the Guassian elimination for $Ax = b$ is equal to the determinant of A up to a sign. "
   ]
  },
  {
   "cell_type": "markdown",
   "metadata": {},
   "source": [
    "This is simple to prove using part a. We have proved in the previous part that for an upper triangular matrix, the product of the entries on the main diagonal is equal to the determinant of the matrix. During Guassian elimination, the augmented matrix $A$ is put into an $(n)\\:x\\:(n+1)$ reduced row- echelon form which yields a matrix of the following form: $$\\begin{bmatrix} p_{1}&a_{12}&\\cdot&\\cdot&a_{1n}&b_{1}\\\\0&p_{2}&\\cdot&\\cdot&a_{2n}&b_{2}\\\\\\cdot&\\cdot&\\cdot&\\cdot&\\cdot&\\cdot\\\\ 0&0&\\cdot&\\cdot&p_{n}&b_{n}\\\\ \\end{bmatrix}$$ where $p_{n}$ are the pivots. Now discounting the $(n+1)th$ column which is just the b-column, we have an upper triangular matrix where the pivots are the entries on the main diagonal, and as we proved in the previous part this is equal to the determinant of the matrix."
   ]
  },
  {
   "cell_type": "markdown",
   "metadata": {},
   "source": [
    "# Part c)\n",
    "Prove that the product of two $n\\:x\\:n$ upper (or lower) triangular matrices is an upper (or lower) triangular matrix"
   ]
  },
  {
   "cell_type": "markdown",
   "metadata": {},
   "source": [
    "Consider two upper triangular matrices A and B of the form: $$A = \\begin{bmatrix} a_{11}&a_{12}&a_{13}&\\cdot&a_{1n} \\\\0&a_{22}&a_{23}&\\cdot&a_{2n}\\\\\\cdot&\\cdot&\\cdot&\\cdot&\\cdot\\\\0&0&0&\\cdot&a_{nn}\\\\ \\end{bmatrix}, B = \\begin{bmatrix} b_{11}&b_{12}&b_{13}&\\cdot&b_{1n} \\\\0&b_{22}&b_{23}&\\cdot&b_{2n}\\\\\\cdot&\\cdot&\\cdot&\\cdot&\\cdot\\\\0&0&0&\\cdot&b_{nn}\\\\ \\end{bmatrix}$$ "
   ]
  },
  {
   "cell_type": "markdown",
   "metadata": {},
   "source": [
    "To prove this to be true, we will use the fact that for upper triangular matrices, if $i \\gt j$, then $a_{ij} =0,\\: \\forall\\:i,j.$ This is the definition of an upper triangular matrix: all entries below the main diagonal are zero. So to show that $AB$ is upper diagonal, it will be sufficient to show that $AB_{ij} = 0$ whenever $i\\gt j$.\n",
    "\n",
    "We know that $$AB_{ij} = \\displaystyle\\sum_{k=1}^{n}a_{ik}b_{kj}$$ This sum can be rewritten in two pieces to make it easier to evaluate: $$AB_{ij} = \\displaystyle\\sum_{k=1}^{i-1}a_{ik}b_{kj} + \\displaystyle\\sum_{k=i}^{n}a_{ik}b_{kj}$$ For the $\\displaystyle\\sum_{k=1}^{i-1}a_{ik}b_{kj}$ term, $i\\gt k$, and thus $a_{ik}=0, \\forall k$ (as A is upper triangular) and thus the first term of the sum drops out. \n",
    "\n",
    "For the second term, $\\displaystyle\\sum_{k=i}^{n}a_{ik}b_{kj}$, we know that $k \\geq i$, and as we stated that $i \\gt j$ in the beginning, we know that $k \\gt j$, and thus $b_{kj} = 0$, and thus the second term is also zero. \n",
    "\n",
    "Because the entire sum is zero whenever $i \\gt j$, we know that $(AB)_{ij} = 0$ and thus the matrix $AB$ is upper triangular. "
   ]
  },
  {
   "cell_type": "markdown",
   "metadata": {},
   "source": [
    "# Part d)\n",
    "Let $L_{i}$ be the unit upper triangular matrix that produces the $ith$ step of the Gaussian Elimination algorithim: $$L_{i} = \\begin{bmatrix} 1&&\\cdots&&&\\\\&\\ddots&\\cdots&\\cdots&&\\\\&&1&&&\\\\&&-m_{i+1,i}&&&\\\\&&-m_{i+2,i}&\\ddots&&\\\\&&\\vdots&&\\ddots\\\\&&-m_{n,i}&&&1\\\\ \\end{bmatrix}$$ Prove that: $$L_{i}^{-1} = \\begin{bmatrix} 1&&\\cdots&&&\\\\&\\ddots&\\cdots&\\cdots&&\\\\&&1&&&\\\\&&m_{i+1,i}&&&\\\\&&m_{i+2,i}&\\ddots&&\\\\&&\\vdots&&\\ddots\\\\&&m_{n,i}&&&1\\\\ \\end{bmatrix}$$"
   ]
  },
  {
   "cell_type": "markdown",
   "metadata": {},
   "source": [
    "In order to prove this, we will write $L_{i}$ as $I - m_{i}E_{i}$, where $$m_{i} = \\begin{bmatrix} 0\\\\ \\vdots\\\\0\\\\m_{i+1,i}\\\\m_{i+2,i}\\\\\\vdots\\\\m_{n,i}\\\\ \\end{bmatrix}$$ where $m_{i+1,i}, m_{i+2,i},...m_{n,i} = \\frac{a_{j,i}}{a_{i,i}}$ for $j=i+1, ..., n$, and the only non-zero entry in $E_{i}$ is the $ith$ elimination step to eliminate the entry in the $ith$ row and the $ith$ column, and I is the identity matrix. We can write it this way because we know $L_{i}$ is unit upper triangular and the identity matrix only has ones on the main diagonal and zeroes everywhere else. \n",
    "\n",
    "Now, we know that $m_{i}E_{i} = 0$, because the only non-zero entry in $E_{i}$ is in the $ith$ row, and therefore does not hit any of the nonzero entries in $m_{i}$ which begin in the $(i+1)st$ row. \n",
    "\n",
    "If we can find a matrix $A$ where $L_{i}A=I$, then by definition $A$ is the inverse matrix. \n",
    "\n",
    "Thus, expand $$(I- m_{i}E_{i})(I+m_{i}E_{i}) = I^{2} + m_{i}E_{i}I - m_{i}E_{i}I -(m_{i}E_{i} * m_{i}E_{i})$$ \n",
    "Because any matrix times the identity matrix is itself, this expression becomes: $$I - (m_{i}E_{i} * m_{i}E_{i})$$, and as we know $m_{i}E_{i} = 0$, this becomes $$I-0 = I$$\n",
    "\n",
    "Thus, we know that $I + m_{i}E_{i}$ is the inverse, which means that $$L_{i}^{-1} = \\begin{bmatrix} 1&&\\cdots&&&\\\\&\\ddots&\\cdots&\\cdots&&\\\\&&1&&&\\\\&&m_{i+1,i}&&&\\\\&&m_{i+2,i}&\\ddots&&\\\\&&\\vdots&&\\ddots\\\\&&m_{n,i}&&&1\\\\ \\end{bmatrix}$$"
   ]
  },
  {
   "cell_type": "markdown",
   "metadata": {},
   "source": [
    "# Problem 3\n",
    "Find an LU factorization of the matrix: $$\\begin{bmatrix}5&1&0\\\\0&4&0\\\\1&1&4\\\\ \\end{bmatrix}$$"
   ]
  },
  {
   "cell_type": "markdown",
   "metadata": {},
   "source": [
    "As we know $A = LU$, we are looking for a factorization of the form: $$A = \\begin{bmatrix} l_{11}&0&0\\\\l_{21}&l_{22}&0\\\\l_{31}&l_{32}&l_{33}\\\\ \\end{bmatrix} \\begin{bmatrix} u_{11}&u_{12}&u_{13}\\\\0&u_{22}&u_{23}\\\\0&0&u_{33}\\\\ \\end{bmatrix}$$ We will multiply these two matrices out to obtain systems of equations to solve for the unknowns. In this case, we will take $u_{11} = u_{22} = u_{33} = 1$ (the main diagonal of U) to make the calculations simpler. "
   ]
  },
  {
   "cell_type": "markdown",
   "metadata": {},
   "source": [
    "$$l_{11}u_{11} = 5 \\implies l_{11} \\times 1 = 5 \\implies l_{11} = 5$$ \n",
    "$$l_{11}u_{12} = 1 \\implies 5 \\times u_{12} = 1 \\implies u_{12} = \\frac{1}{5}$$\n",
    "$$l_{11}u_{13} = 0 \\implies u_{13} = 0$$\n",
    "$$l_{21}u_{11} = 0 \\implies l_{21} = 0$$\n",
    "$$l_{21}u_{12} + l_{22}u_{22} = 4 \\implies l_{22} \\times 1 = 4 \\implies l_{22} = 4$$\n",
    "$$l_{21}u_{13} + l_{22}u_{23} = 0 \\implies 4 \\times u_{23} = 0 \\implies u_{23} = 0$$\n",
    "$$l_{31}u_{11} = 1 \\implies l_{31} = 1$$\n",
    "$$l_{31}u_{12} + l_{33}u_{22} = 1 \\implies 1\\times\\frac{1}{5}\\:+\\:l_{32} = 1 \\implies l_{32} = \\frac{4}{5}$$\n",
    "$$l_{31}u_{13} + l_{32}u_{23} + l_{33}u_{33} = 4 \\implies l_{33} = 4$$"
   ]
  },
  {
   "cell_type": "markdown",
   "metadata": {},
   "source": [
    "The resulting matrices we get is that: $$\\begin{bmatrix}5&1&0\\\\0&4&0\\\\1&1&4\\\\ \\end{bmatrix} = \\begin{bmatrix}5&0&0\\\\0&4&0\\\\1&\\frac{4}{5}&4\\\\ \\end{bmatrix} \\begin{bmatrix} 1&\\frac{1}{5}&0\\\\0&1&0\\\\0&0&1\\\\ \\end{bmatrix}$$"
   ]
  },
  {
   "cell_type": "markdown",
   "metadata": {},
   "source": [
    "# Problem 4\n",
    "Find the Choleski factorization $A = LL^{T}$ of the matrix: $$\\begin{bmatrix}3&-1&0\\\\-1&3&-1\\\\0&-1&3\\\\ \\end{bmatrix}$$"
   ]
  },
  {
   "cell_type": "code",
   "execution_count": 4,
   "metadata": {},
   "outputs": [],
   "source": [
    "#this is a short code to produce the matrix L using the Choleski factorization\n",
    "def choleski(A): #the input is the matrix A\n",
    "    L = [[0] * len(A) for i in range(len(A))] #creates an n x n matrix the same size as A\n",
    "    for i in range(len(A)): #Embedded loops that generate the necessary sum to perform the calculations\n",
    "        for k in range(i+1): \n",
    "            acc = sum(L[i][j] * L[k][j] for j in range(k))\n",
    "            if (i == k): #accounts for the special case when referrring to l_ii\n",
    "                L[i][k] = np.sqrt(A[i][i] - acc)\n",
    "            else: #all other cases\n",
    "                L[i][k] = (1 / L[k][k] * (A[i][k] - acc))\n",
    "    return L #the output is the lower triangular matrix, L    \n",
    "A = [[3, -1, 0], [-1, 3, -1], [0, -1, 3]]"
   ]
  },
  {
   "cell_type": "code",
   "execution_count": 5,
   "metadata": {},
   "outputs": [],
   "source": [
    "L = choleski(A)\n",
    "Lt = np.transpose(L) #uses a Numpy function generate the transpose of the L matrix"
   ]
  },
  {
   "cell_type": "code",
   "execution_count": 6,
   "metadata": {},
   "outputs": [
    {
     "data": {
      "text/plain": [
       "[[1.7320508075688772, 0, 0],\n",
       " [-0.5773502691896258, 1.632993161855452, 0],\n",
       " [0.0, -0.6123724356957945, 1.620185174601965]]"
      ]
     },
     "execution_count": 6,
     "metadata": {},
     "output_type": "execute_result"
    }
   ],
   "source": [
    "L"
   ]
  },
  {
   "cell_type": "code",
   "execution_count": 7,
   "metadata": {},
   "outputs": [
    {
     "data": {
      "text/plain": [
       "array([[ 1.73205081, -0.57735027,  0.        ],\n",
       "       [ 0.        ,  1.63299316, -0.61237244],\n",
       "       [ 0.        ,  0.        ,  1.62018517]])"
      ]
     },
     "execution_count": 7,
     "metadata": {},
     "output_type": "execute_result"
    }
   ],
   "source": [
    "Lt"
   ]
  },
  {
   "cell_type": "markdown",
   "metadata": {},
   "source": [
    "By combining the two matrices above, this yields the desired $A = LL^{T}$ factorization. "
   ]
  },
  {
   "cell_type": "code",
   "execution_count": null,
   "metadata": {},
   "outputs": [],
   "source": []
  }
 ],
 "metadata": {
  "kernelspec": {
   "display_name": "Python 3",
   "language": "python",
   "name": "python3"
  },
  "language_info": {
   "codemirror_mode": {
    "name": "ipython",
    "version": 3
   },
   "file_extension": ".py",
   "mimetype": "text/x-python",
   "name": "python",
   "nbconvert_exporter": "python",
   "pygments_lexer": "ipython3",
   "version": "3.7.3"
  }
 },
 "nbformat": 4,
 "nbformat_minor": 2
}
